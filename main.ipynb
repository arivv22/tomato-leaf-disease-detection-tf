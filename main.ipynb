{
  "nbformat": 4,
  "nbformat_minor": 0,
  "metadata": {
    "colab": {
      "provenance": [],
      "gpuType": "T4",
      "authorship_tag": "ABX9TyNycuZw0B0kvLT3tEbEz/Oe",
      "include_colab_link": true
    },
    "kernelspec": {
      "name": "python3",
      "display_name": "Python 3"
    },
    "language_info": {
      "name": "python"
    },
    "accelerator": "GPU"
  },
  "cells": [
    {
      "cell_type": "markdown",
      "metadata": {
        "id": "view-in-github",
        "colab_type": "text"
      },
      "source": [
        "<a href=\"https://colab.research.google.com/github/arivv22/tomato-leaf-disease-detection-tf/blob/master/main.ipynb\" target=\"_parent\"><img src=\"https://colab.research.google.com/assets/colab-badge.svg\" alt=\"Open In Colab\"/></a>"
      ]
    },
    {
      "cell_type": "markdown",
      "source": [
        "# Setup & Import"
      ],
      "metadata": {
        "id": "pYmPn2LmmkNn"
      }
    },
    {
      "cell_type": "code",
      "execution_count": 2,
      "metadata": {
        "id": "IVQ9PtLRmGVK"
      },
      "outputs": [],
      "source": [
        "#if you already instal just skip this code\n",
        "!pip install -q tensorflow matplotlib scikit-learn pandas seaborn opencv-python-headless gradio"
      ]
    },
    {
      "cell_type": "code",
      "source": [
        "import os, sys, math, random, shutil\n",
        "import numpy as np\n",
        "import pandas as pd\n",
        "import matplotlib.pyplot as plt\n",
        "import seaborn as sns\n",
        "import tensorflow as tf\n",
        "from sklearn.metrics import confusion_matrix, classification_report"
      ],
      "metadata": {
        "id": "sEyYvj_aqeSi"
      },
      "execution_count": 4,
      "outputs": []
    },
    {
      "cell_type": "markdown",
      "source": [
        "# Load data json"
      ],
      "metadata": {
        "id": "Wp_CRt8mqk0A"
      }
    },
    {
      "cell_type": "code",
      "source": [
        "!pip install kaggle"
      ],
      "metadata": {
        "id": "0QMyQZGntQCn"
      },
      "execution_count": null,
      "outputs": []
    },
    {
      "cell_type": "code",
      "source": [
        "!mkdir -p ~/.kaggle\n",
        "!cp kaggle.json ~/.kaggle/\n",
        "!chmod 600 ~/.kaggle/kaggle.json"
      ],
      "metadata": {
        "id": "ZscixJFaqnf3"
      },
      "execution_count": 24,
      "outputs": []
    },
    {
      "cell_type": "code",
      "source": [
        "!kaggle datasets download -d emmarex/plantdisease\n",
        "!unzip -q plantdisease.zip -d plantvillage\n"
      ],
      "metadata": {
        "id": "OC23yqFptLCC"
      },
      "execution_count": null,
      "outputs": []
    },
    {
      "cell_type": "markdown",
      "source": [
        "# Data Preparation"
      ],
      "metadata": {
        "id": "pEjA67m0uIAo"
      }
    },
    {
      "cell_type": "code",
      "source": [
        "# Filter only Tomato classes\n",
        "import os, shutil, pathlib\n",
        "base_dir = pathlib.Path('plantvillage/PlantVillage') #adjust with your path dataset\n",
        "tomato_dir = pathlib.Path('tomato_dataset')\n",
        "tomato_dir.mkdir(exist_ok=True)\n",
        "for folder in base_dir.iterdir():\n",
        "    if 'Tomato' in folder.name:\n",
        "        shutil.copytree(folder, tomato_dir/folder.name, dirs_exist_ok=True)\n",
        "print('✅ Tomato classes:', [f.name for f in tomato_dir.iterdir()])"
      ],
      "metadata": {
        "colab": {
          "base_uri": "https://localhost:8080/"
        },
        "id": "UwB1d-ENuMAy",
        "outputId": "96682c55-6b43-4717-c8cd-44848e88ceba"
      },
      "execution_count": 37,
      "outputs": [
        {
          "output_type": "stream",
          "name": "stdout",
          "text": [
            "✅ Tomato classes: ['Tomato__Target_Spot', 'Tomato_Septoria_leaf_spot', 'Tomato__Tomato_YellowLeaf__Curl_Virus', 'Tomato_Late_blight', 'Tomato_Spider_mites_Two_spotted_spider_mite', 'Tomato_healthy', 'Tomato_Early_blight', 'Tomato_Leaf_Mold', 'Tomato__Tomato_mosaic_virus', 'Tomato_Bacterial_spot']\n"
          ]
        }
      ]
    },
    {
      "cell_type": "code",
      "source": [
        "import pathlib\n",
        "DATA_ROOT = pathlib.Path(tomato_dir)\n",
        "\n",
        "all_subdirs = [p.name for p in DATA_ROOT.iterdir() if p.is_dir()]\n",
        "tomato_dirs = [d for d in all_subdirs if d.lower().startswith(\"tomato\")]\n",
        "\n",
        "print(\"Detected tomato folders (examples):\", tomato_dirs[:10])\n",
        "\n",
        "# Create a working dataset folder with train/val/test splits\n",
        "WORKDIR = 'tomato_dataset'\n",
        "if os.path.exists(WORKDIR):\n",
        "    shutil.rmtree(WORKDIR)\n",
        "os.makedirs(WORKDIR, exist_ok=True)\n",
        "\n",
        "def make_split(src_root, dest_root, classes, val_ratio=0.15, test_ratio=0.10, seed=42):\n",
        "    random.seed(seed)\n",
        "    for c in classes:\n",
        "        src = pathlib.Path(src_root) / c\n",
        "        if not src.exists(): continue\n",
        "        imgs = list(src.glob('*.jpg')) + list(src.glob('*.png'))\n",
        "        random.shuffle(imgs)\n",
        "        n = len(imgs)\n",
        "        n_test = int(n * test_ratio)\n",
        "        n_val = int(n * val_ratio)\n",
        "        splits = {\n",
        "            'train': imgs[n_val + n_test:],\n",
        "            'val': imgs[:n_val],\n",
        "            'test': imgs[n_val:n_val + n_test]\n",
        "        }\n",
        "        for split, files in splits.items():\n",
        "            dst_dir = pathlib.Path(dest_root) / split / c\n",
        "            dst_dir.mkdir(parents=True, exist_ok=True)\n",
        "            for f in files:\n",
        "                shutil.copy(f, dst_dir / f.name)\n",
        "\n",
        "make_split(DATA_ROOT, WORKDIR, tomato_dirs)\n",
        "print(\"Done. New dataset at:\", WORKDIR)\n"
      ],
      "metadata": {
        "colab": {
          "base_uri": "https://localhost:8080/"
        },
        "id": "5bB_OVgkwAoH",
        "outputId": "dd172a38-a3ed-4278-dcfc-9f779b27b632"
      },
      "execution_count": 38,
      "outputs": [
        {
          "output_type": "stream",
          "name": "stdout",
          "text": [
            "Detected tomato folders (examples): ['Tomato__Target_Spot', 'Tomato_Septoria_leaf_spot', 'Tomato__Tomato_YellowLeaf__Curl_Virus', 'Tomato_Late_blight', 'Tomato_Spider_mites_Two_spotted_spider_mite', 'Tomato_healthy', 'Tomato_Early_blight', 'Tomato_Leaf_Mold', 'Tomato__Tomato_mosaic_virus', 'Tomato_Bacterial_spot']\n",
            "Done. New dataset at: /content/tomato_dataset\n"
          ]
        }
      ]
    }
  ]
}